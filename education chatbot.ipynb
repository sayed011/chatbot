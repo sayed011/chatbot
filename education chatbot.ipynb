{
 "cells": [
  {
   "cell_type": "code",
   "execution_count": 5,
   "id": "a86acf7b-de82-437c-8397-8e3b1fc38013",
   "metadata": {},
   "outputs": [],
   "source": [
    "from transformers import pipeline, AutoTokenizer, AutoModelForQuestionAnswering\n"
   ]
  },
  {
   "cell_type": "code",
   "execution_count": 15,
   "id": "d8ddc8a6-a59d-432a-bbf7-125321a1827c",
   "metadata": {},
   "outputs": [],
   "source": [
    "qa_model = pipeline(\"question-answering\", model=\"deepset/roberta-base-squad2\")\n"
   ]
  },
  {
   "cell_type": "code",
   "execution_count": 17,
   "id": "da5bac0a-6bf8-418c-990c-68460394286b",
   "metadata": {},
   "outputs": [],
   "source": [
    "context = \"\"\"\n",
    "The Earth revolves around the Sun. This takes approximately 365.25 days, which is why we have a leap year every 4 years.\n",
    "The Earth’s atmosphere is composed mainly of nitrogen (78%) and oxygen (21%). Other gases include carbon dioxide and argon.\n",
    "The atmosphere is crucial for life on Earth as it provides oxygen and protects us from harmful radiation from the Sun.\n",
    "\"\"\"\n"
   ]
  },
  {
   "cell_type": "code",
   "execution_count": 19,
   "id": "bfb1bcec-7f2f-44db-ba42-7956246d0739",
   "metadata": {},
   "outputs": [],
   "source": [
    "def educational_chatbot():\n",
    "    print(\"Welcome to the Education Chatbot! Ask me anything related to the topics I'm trained on.\")\n",
    "    print(\"Type 'exit' to end the chat.\\n\")\n",
    "    \n",
    "    while True:\n",
    "        question = input(\"You: \")\n",
    "        if question.lower() == \"exit\":\n",
    "            print(\"Goodbye! Happy learning.\")\n",
    "            break\n",
    "        \n",
    "        # Get the answer from the QA model using the provided context\n",
    "        answer = qa_model(question=question, context=context)\n",
    "        \n",
    "        print(f\"Bot: {answer['answer']}\\n\")\n"
   ]
  },
  {
   "cell_type": "code",
   "execution_count": null,
   "id": "a9122e16-225d-45f8-b9eb-3a51754817a9",
   "metadata": {},
   "outputs": [
    {
     "name": "stdout",
     "output_type": "stream",
     "text": [
      "Welcome to the Education Chatbot! Ask me anything related to the topics I'm trained on.\n",
      "Type 'exit' to end the chat.\n",
      "\n"
     ]
    },
    {
     "name": "stdin",
     "output_type": "stream",
     "text": [
      "You:  where does the earth revolve\n"
     ]
    },
    {
     "name": "stdout",
     "output_type": "stream",
     "text": [
      "Bot: around the Sun\n",
      "\n"
     ]
    }
   ],
   "source": [
    "educational_chatbot()\n"
   ]
  },
  {
   "cell_type": "code",
   "execution_count": null,
   "id": "22746fb5-05d0-4a44-bc39-fa4029f5c2e0",
   "metadata": {},
   "outputs": [],
   "source": []
  }
 ],
 "metadata": {
  "kernelspec": {
   "display_name": "Python 3 (ipykernel)",
   "language": "python",
   "name": "python3"
  },
  "language_info": {
   "codemirror_mode": {
    "name": "ipython",
    "version": 3
   },
   "file_extension": ".py",
   "mimetype": "text/x-python",
   "name": "python",
   "nbconvert_exporter": "python",
   "pygments_lexer": "ipython3",
   "version": "3.12.4"
  }
 },
 "nbformat": 4,
 "nbformat_minor": 5
}
